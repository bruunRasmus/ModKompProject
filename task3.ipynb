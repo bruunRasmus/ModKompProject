{
 "cells": [
  {
   "cell_type": "code",
   "execution_count": null,
   "metadata": {},
   "outputs": [],
   "source": [
    "lambdaHat0 = np.mean(X[np.where(Z==0)])\n",
    "lambdaHat1 = np.mean(X[np.where(Z==1)])\n",
    "alphaHat = sum((Z[np.where(C==0)]==0).flatten())+sum((Z[np.where(C==1)]==1).flatten())/len(np.where(C!=2)[0])\n",
    "betaHat = sum((C[np.where(C==2)[0]+1])!=2)/len(np.where(C==2)[0])\n",
    "gammaHat = sum((C[np.where(C[:-1]!=2)[0]+1])==2)/len(np.where(C!=2)[0])\n",
    "\n",
    "print(\"Lambda_0 estimate:\",round(lambdaHat0,2), \"Lambda_0:\",Lambda[0])\n",
    "print(\"Lambda_1 estimate:\",round(lambdaHat1,2), \"Lambda_0:\",Lambda[1])\n",
    "print(\"alpha estimate:\",round(alphaHat,2), \"alpha:\",alpha)\n",
    "print(\"beta estimate:\",round(betaHat,2), \"beta:\",beta)\n",
    "print(\"gamma estimate:\",round(gammaHat,2), \"beta:\",gamma)"
   ]
  }
 ],
 "metadata": {
  "kernelspec": {
   "display_name": "Python 3",
   "language": "python",
   "name": "python3"
  },
  "language_info": {
   "codemirror_mode": {
    "name": "ipython",
    "version": 3
   },
   "file_extension": ".py",
   "mimetype": "text/x-python",
   "name": "python",
   "nbconvert_exporter": "python",
   "pygments_lexer": "ipython3",
   "version": "3.7.3"
  }
 },
 "nbformat": 4,
 "nbformat_minor": 4
}
